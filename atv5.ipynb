{
 "cells": [
  {
   "cell_type": "markdown",
   "metadata": {},
   "source": [
    "Considere uma cadeia circular composta por  átomos, cada um de massa , conectados por molas idênticas de constante elástica . O sistema está sujeito a condições de contorno ou seja a primeira massa está ligada a última massa. Em uma das simulações, introduza um defeito de molas:  substitua duas molas que ligam uma massa por (k2=5k)\n",
    " \n",
    "Parâmetros\n",
    "• Massas padrão:  m=1 kg\n",
    " • Constante elástica: k = 1 N/m\n",
    " • Tamanhos da cadeia: N = 100, 1000 e 10.000\n",
    "• Defeito: massa igual a k2 = 5k  (apenas em uma das simulações)\n",
    " \n",
    "Tarefas  \n",
    "1. Cálculo das Frequências de Vibração  \n",
    "• Para cada valor de  (100, 1000, 10000), calcule as frequências naturais de vibração do sistema para:  \n",
    "• Cadeia homogênea (todas as massas iguais)  \n",
    "• Cadeia com defeito de massa no centro  \n",
    "2. Densidade de Estados  \n",
    "• Construa histogramas (densidade de estados) para os valores de  obtidos em cada caso.  \n",
    "• Compare os histogramas para diferentes tamanhos de cadeia e para a presença/ausência do defeito.  \n",
    "3. Deslocamentos Relativos (Modos Normais)  \n",
    "• Para cada cadeia, obtenha os vetores de deslocamento (modos normais) correspondentes:  \n",
    "• Às cinco menores frequências (modos de baixa energia)  \n",
    "• Às cinco maiores frequências (modos de alta energia)  \n",
    "• Apresente gráficos dos deslocamentos relativos dos átomos para esses modos.  \n",
    "4. Análise e Comparação  \n",
    "• Analise como o tamanho da cadeia e a presença do defeito afetam:  \n",
    "• A distribuição das frequências (densidade de estados)  \n",
    "• Os padrões de deslocamento dos modos normais  \n",
    "• Discuta a localização dos modos associados ao defeito de massa.  \n",
    "Orientações para Implementação em Python  \n",
    "• O código deve ser bem documentado e comentado, facilitando o entendimento de cada etapa do processo.  \n",
    "• Utilize bibliotecas como `numpy` e `matplotlib` para cálculos e visualizações.  \n",
    "• Monte a matriz dinâmica do sistema e calcule seus autovalores e autovetores.  \n",
    "• Para grandes valores de , otimize o código para eficiência computacional.  \n",
    "• Disponibilize o código final em um repositório no GitHub e inclua o link no relatório.  \n",
    "   \n",
    "Instruções para Entrega  \n",
    " • A resposta deve ser enviada via Moodle devidamente comentada.  \n",
    "• Inclua todos os gráficos gerados (histogramas, modos normais, etc.) no arquivo de resposta, pois não será possível rodar todos os programas novamente para correção.  \n",
    "• Certifique-se de que cada gráfico esteja devidamente identificado e relacionado ao caso analisado.  \n",
    "   \n",
    "Sugestão de Estrutura para a resposta  \n",
    "1. Introdução  \n",
    "• Breve explicação do modelo massa-mola e sua relevância para cadeias atômicas.  \n",
    "2. Metodologia  \n",
    "• Descrição do método numérico utilizado para calcular frequências e modos.  \n",
    "3. Resultados  \n",
    "• Histogramas das densidades de estados para cada caso.  \n",
    "• Gráficos dos deslocamentos relativos para os modos selecionados.  \n",
    "• Tabela comparativa dos principais resultados.  \n",
    "4. Discussão  \n",
    "• Interpretação dos efeitos do tamanho da cadeia e do defeito de massa.    \n",
    "• Observações sobre a localização dos modos e possíveis aplicações.  \n",
    "5. Conclusão  \n",
    "• Síntese dos principais achados.  \n",
    "Observação: Comente o código de forma clara, disponibilize o link do GitHub e anexe todos os gráficos no Moodle para garantir a avaliação completa.  "
   ]
  },
  {
   "cell_type": "markdown",
   "metadata": {},
   "source": [
    "### Preâmbulo"
   ]
  },
  {
   "cell_type": "code",
   "execution_count": 1,
   "metadata": {},
   "outputs": [],
   "source": [
    "import numpy as np\n",
    "import matplotlib.pyplot as plt\n",
    "from scipy.linalg import eigh\n",
    "from scipy.sparse import diags, csr_matrix\n",
    "import pandas as pd"
   ]
  },
  {
   "cell_type": "code",
   "execution_count": 2,
   "metadata": {},
   "outputs": [],
   "source": [
    "#Parâmetros\n",
    "m, k1, k2 = 1.0, 1.0, 5.0\n",
    "N1, N2, N3 = 100, 1000, 10000"
   ]
  },
  {
   "cell_type": "markdown",
   "metadata": {},
   "source": [
    "### Cadeia de 100 átomos"
   ]
  },
  {
   "cell_type": "code",
   "execution_count": 67,
   "metadata": {},
   "outputs": [],
   "source": [
    "# Inicializa a matriz D com zeros\n",
    "D100 = np.zeros((N1, N1))\n",
    "\n",
    "# Preenche a matriz D de acordo com o sistema de massas e molas\n",
    "for i in range(N1):\n",
    "    if i == N1-1:  # Última massa\n",
    "        D100[i, i] = 2*k1/m\n",
    "        D100[i, i-1] = -k1/m\n",
    "    else:  \n",
    "        D100[i, i] = 2*k1/m\n",
    "        D100[i, i-1] = -k1/m\n",
    "        D100[i, i+1] = -k1/m"
   ]
  },
  {
   "cell_type": "markdown",
   "metadata": {},
   "source": [
    "Cria a matriz com problema de massa"
   ]
  },
  {
   "cell_type": "code",
   "execution_count": 68,
   "metadata": {},
   "outputs": [],
   "source": [
    "#cria a matriz com problema de massa\n",
    "D100_mod = D100.copy()\n",
    "D100_mod[49, :] *= k2"
   ]
  },
  {
   "cell_type": "markdown",
   "metadata": {},
   "source": [
    "Autovalores, autovetores e $\\omega_i$"
   ]
  },
  {
   "cell_type": "code",
   "execution_count": 69,
   "metadata": {},
   "outputs": [],
   "source": [
    "ww100, v100 = eigh(D100)\n",
    "w100 = np.sqrt(ww100) \n",
    "\n",
    "ww100_mod, v100_mod = eigh(D100_mod)\n",
    "w100_mod = np.sqrt(np.abs(ww100_mod))"
   ]
  },
  {
   "cell_type": "code",
   "execution_count": 75,
   "metadata": {},
   "outputs": [
    {
     "name": "stderr",
     "output_type": "stream",
     "text": [
      "<>:10: SyntaxWarning:\n",
      "\n",
      "invalid escape sequence '\\o'\n",
      "\n",
      "<>:11: SyntaxWarning:\n",
      "\n",
      "invalid escape sequence '\\o'\n",
      "\n",
      "<>:21: SyntaxWarning:\n",
      "\n",
      "invalid escape sequence '\\o'\n",
      "\n",
      "<>:22: SyntaxWarning:\n",
      "\n",
      "invalid escape sequence '\\o'\n",
      "\n",
      "<>:10: SyntaxWarning:\n",
      "\n",
      "invalid escape sequence '\\o'\n",
      "\n",
      "<>:11: SyntaxWarning:\n",
      "\n",
      "invalid escape sequence '\\o'\n",
      "\n",
      "<>:21: SyntaxWarning:\n",
      "\n",
      "invalid escape sequence '\\o'\n",
      "\n",
      "<>:22: SyntaxWarning:\n",
      "\n",
      "invalid escape sequence '\\o'\n",
      "\n",
      "/tmp/ipykernel_53275/1250270834.py:10: SyntaxWarning:\n",
      "\n",
      "invalid escape sequence '\\o'\n",
      "\n",
      "/tmp/ipykernel_53275/1250270834.py:11: SyntaxWarning:\n",
      "\n",
      "invalid escape sequence '\\o'\n",
      "\n",
      "/tmp/ipykernel_53275/1250270834.py:21: SyntaxWarning:\n",
      "\n",
      "invalid escape sequence '\\o'\n",
      "\n",
      "/tmp/ipykernel_53275/1250270834.py:22: SyntaxWarning:\n",
      "\n",
      "invalid escape sequence '\\o'\n",
      "\n"
     ]
    },
    {
     "data": {
      "image/png": "[encoded data removed]",
      "text/plain": [
       "<Figure size 1000x500 with 2 Axes>"
      ]
     },
     "metadata": {},
     "output_type": "display_data"
    }
   ],
   "source": [
    "# Configuração do histograma\n",
    "fig, (ax1, ax2) = plt.subplots(1, 2, figsize=(10, 5))\n",
    "\n",
    "# --- Subplot 1: Histograma de w100 ---\n",
    "ax1.hist(w100, \n",
    "         bins=np.arange(min(w100), max(w100) + 0.2, 0.05),\n",
    "         edgecolor='black',\n",
    "         color='skyblue',\n",
    "         alpha=0.7)\n",
    "ax1.set_title('Distribuição de $\\omega_{100}$ (Original)')\n",
    "ax1.set_xlabel('$\\omega$')\n",
    "ax1.set_ylabel('Número de modos normais')\n",
    "ax1.grid(linestyle='--', alpha=0.5)\n",
    "\n",
    "# --- Subplot 2: Histograma de w100_mod ---\n",
    "ax2.hist(w100_mod, \n",
    "         bins=np.arange(min(w100_mod), max(w100_mod) + 0.2, 0.05),\n",
    "         edgecolor='black',\n",
    "         color='salmon',\n",
    "         alpha=0.7)\n",
    "ax2.set_title('Distribuição de $\\omega_{100}$ (Modificada)')\n",
    "ax2.set_xlabel('$\\omega$')\n",
    "ax2.set_ylabel('Número de modos normais')\n",
    "ax2.grid(linestyle='--', alpha=0.5)\n",
    "\n",
    "# Mostrar o gráfico\n",
    "plt.show()"
   ]
  },
  {
   "cell_type": "code",
   "execution_count": 73,
   "metadata": {},
   "outputs": [
    {
     "data": {
      "application/vnd.plotly.v1+json": {
       "config": {
        "plotlyServerURL": "https://plot.ly"
       },
       "data": [
        {
         "alignmentgroup": "True",
         "bingroup": "x",
         "hovertemplate": "Frequência (ω)=%{x}<br>count=%{y}<extra></extra>",
         "legendgroup": "",
         "marker": {
          "color": "#636EFA",
          "line": {
           "color": "black",
           "width": 1
          },
          "opacity": 0.8,
          "pattern": {
           "shape": ""
          }
         },
         "name": "",
         "nbinsx": 39,
         "offsetgroup": "",
         "orientation": "v",
         "showlegend": false,
         "type": "histogram",
         "x": [
          0.031103623840715612,
          0.06219972453967351,
          0.09328078077483837,
          0.12433927486296234,
          0.1553676945780156,
          0.18635853496814384,
          0.2173043001709492,
          0.24819750522652045,
          0.2790306778878477,
          0.30979636042816955,
          0.3404871114447983,
          0.371095507658988,
          0.4016141457114379,
          0.4320356439529672,
          0.4623526442299398,
          0.49255781366400364,
          0.5226438464257223,
          0.5526034655016616,
          0.5824294244545049,
          0.612114509175777,
          0.6416515396307367,
          0.6710333715950506,
          0.7002528983827826,
          0.7293030525653109,
          0.7581768076807587,
          0.7868671799335053,
          0.8153672298833778,
          0.8436700641241257,
          0.8717688369507431,
          0.899656752015272,
          0.9273270639706557,
          0.9547730801022548,
          0.9819881619466452,
          1.0089657268972805,
          1.0356992497966515,
          1.062182264514551,
          1.0884083655120556,
          1.1143712093908575,
          1.1400645164275658,
          1.1654820720926022,
          1.1906177285533326,
          1.2154654061610637,
          1.2400190949215508,
          1.264272855948653,
          1.2882208229007954,
          1.3118572033998799,
          1.335176280432307,
          1.358172413731772,
          1.3808400411434936,
          1.4031736799695533,
          1.425167928295014,
          1.4468174662944995,
          1.4681170575189204,
          1.4890615501620303,
          1.509645878306514,
          1.5298650631492952,
          1.5497142142057798,
          1.569188530492732,
          1.588283301689507,
          1.6069939092773513,
          1.6253158276565005,
          1.6432446252408013,
          1.660775965529595,
          1.6779056081566024,
          1.6946294099155552,
          1.7109433257623277,
          1.7268434097933272,
          1.742325816199901,
          1.7573868001985375,
          1.7720227189366295,
          1.7862300323735834,
          1.80000530413706,
          1.8133452023541452,
          1.8262465004572377,
          1.8387060779644726,
          1.8507209212344833,
          1.862288124195319,
          1.87340488904735,
          1.8840685269399782,
          1.8942764586220002,
          1.9040262150654599,
          1.9133154380628394,
          1.922141880797449,
          1.9305034083868713,
          1.9383979983993322,
          1.945823741342875,
          1.952778841127214,
          1.9592616154981632,
          1.9652704964445273,
          1.9708040305773626,
          1.9758608794815133,
          1.980439820039339,
          1.984539744726553,
          1.9881596618801052,
          1.9912986959380372,
          1.9939560876512585,
          1.9961311942671887,
          1.9978234896852216,
          1.9990325645839762,
          1.999758126520299
         ],
         "xaxis": "x",
         "xbins": {
          "end": 2,
          "size": 0.05,
          "start": 0
         },
         "yaxis": "y"
        }
       ],
       "layout": {
        "bargap": 0.05,
        "barmode": "relative",
        "legend": {
         "tracegroupgap": 0
        },
        "showlegend": false,
        "template": {
         "data": {
          "bar": [
           {
            "error_x": {
             "color": "#2a3f5f"
            },
            "error_y": {
             "color": "#2a3f5f"
            },
            "marker": {
             "line": {
              "color": "white",
              "width": 0.5
             },
             "pattern": {
              "fillmode": "overlay",
              "size": 10,
              "solidity": 0.2
             }
            },
            "type": "bar"
           }
          ],
          "barpolar": [
           {
            "marker": {
             "line": {
              "color": "white",
              "width": 0.5
             },
             "pattern": {
              "fillmode": "overlay",
              "size": 10,
              "solidity": 0.2
             }
            },
            "type": "barpolar"
           }
          ],
          "carpet": [
           {
            "aaxis": {
             "endlinecolor": "#2a3f5f",
             "gridcolor": "#C8D4E3",
             "linecolor": "#C8D4E3",
             "minorgridcolor": "#C8D4E3",
             "startlinecolor": "#2a3f5f"
            },
            "baxis": {
             "endlinecolor": "#2a3f5f",
             "gridcolor": "#C8D4E3",
             "linecolor": "#C8D4E3",
             "minorgridcolor": "#C8D4E3",
             "startlinecolor": "#2a3f5f"
            },
            "type": "carpet"
           }
          ],
          "choropleth": [
           {
            "colorbar": {
             "outlinewidth": 0,
             "ticks": ""
            },
            "type": "choropleth"
           }
          ],
          "contour": [
           {
            "colorbar": {
             "outlinewidth": 0,
             "ticks": ""
            },
            "colorscale": [
             [
              0,
              "#0d0887"
             ],
             [
              0.1111111111111111,
              "#46039f"
             ],
             [
              0.2222222222222222,
              "#7201a8"
             ],
             [
              0.3333333333333333,
              "#9c179e"
             ],
             [
              0.4444444444444444,
              "#bd3786"
             ],
             [
              0.5555555555555556,
              "#d8576b"
             ],
             [
              0.6666666666666666,
              "#ed7953"
             ],
             [
              0.7777777777777778,
              "#fb9f3a"
             ],
             [
              0.8888888888888888,
              "#fdca26"
             ],
             [
              1,
              "#f0f921"
             ]
            ],
            "type": "contour"
           }
          ],
          "contourcarpet": [
           {
            "colorbar": {
             "outlinewidth": 0,
             "ticks": ""
            },
            "type": "contourcarpet"
           }
          ],
          "heatmap": [
           {
            "colorbar": {
             "outlinewidth": 0,
             "ticks": ""
            },
            "colorscale": [
             [
              0,
              "#0d0887"
             ],
             [
              0.1111111111111111,
              "#46039f"
             ],
             [
              0.2222222222222222,
              "#7201a8"
             ],
             [
              0.3333333333333333,
              "#9c179e"
             ],
             [
              0.4444444444444444,
              "#bd3786"
             ],
             [
              0.5555555555555556,
              "#d8576b"
             ],
             [
              0.6666666666666666,
              "#ed7953"
             ],
             [
              0.7777777777777778,
              "#fb9f3a"
             ],
             [
              0.8888888888888888,
              "#fdca26"
             ],
             [
              1,
              "#f0f921"
             ]
            ],
            "type": "heatmap"
           }
          ],
          "heatmapgl": [
           {
            "colorbar": {
             "outlinewidth": 0,
             "ticks": ""
            },
            "colorscale": [
             [
              0,
              "#0d0887"
             ],
             [
              0.1111111111111111,
              "#46039f"
             ],
             [
              0.2222222222222222,
              "#7201a8"
             ],
             [
              0.3333333333333333,
              "#9c179e"
             ],
             [
              0.4444444444444444,
              "#bd3786"
             ],
             [
              0.5555555555555556,
              "#d8576b"
             ],
             [
              0.6666666666666666,
              "#ed7953"
             ],
             [
              0.7777777777777778,
              "#fb9f3a"
             ],
             [
              0.8888888888888888,
              "#fdca26"
             ],
             [
              1,
              "#f0f921"
             ]
            ],
            "type": "heatmapgl"
           }
          ],
          "histogram": [
           {
            "marker": {
             "pattern": {
              "fillmode": "overlay",
              "size": 10,
              "solidity": 0.2
             }
            },
            "type": "histogram"
           }
          ],
          "histogram2d": [
           {
            "colorbar": {
             "outlinewidth": 0,
             "ticks": ""
            },
            "colorscale": [
             [
              0,
              "#0d0887"
             ],
             [
              0.1111111111111111,
              "#46039f"
             ],
             [
              0.2222222222222222,
              "#7201a8"
             ],
             [
              0.3333333333333333,
              "#9c179e"
             ],
             [
              0.4444444444444444,
              "#bd3786"
             ],
             [
              0.5555555555555556,
              "#d8576b"
             ],
             [
              0.6666666666666666,
              "#ed7953"
             ],
             [
              0.7777777777777778,
              "#fb9f3a"
             ],
             [
              0.8888888888888888,
              "#fdca26"
             ],
             [
              1,
              "#f0f921"
             ]
            ],
            "type": "histogram2d"
           }
          ],
          "histogram2dcontour": [
           {
            "colorbar": {
             "outlinewidth": 0,
             "ticks": ""
            },
            "colorscale": [
             [
              0,
              "#0d0887"
             ],
             [
              0.1111111111111111,
              "#46039f"
             ],
             [
              0.2222222222222222,
              "#7201a8"
             ],
             [
              0.3333333333333333,
              "#9c179e"
             ],
             [
              0.4444444444444444,
              "#bd3786"
             ],
             [
              0.5555555555555556,
              "#d8576b"
             ],
             [
              0.6666666666666666,
              "#ed7953"
             ],
             [
              0.7777777777777778,
              "#fb9f3a"
             ],
             [
              0.8888888888888888,
              "#fdca26"
             ],
             [
              1,
              "#f0f921"
             ]
            ],
            "type": "histogram2dcontour"
           }
          ],
          "mesh3d": [
           {
            "colorbar": {
             "outlinewidth": 0,
             "ticks": ""
            },
            "type": "mesh3d"
           }
          ],
          "parcoords": [
           {
            "line": {
             "colorbar": {
              "outlinewidth": 0,
              "ticks": ""
             }
            },
            "type": "parcoords"
           }
          ],
          "pie": [
           {
            "automargin": true,
            "type": "pie"
           }
          ],
          "scatter": [
           {
            "fillpattern": {
             "fillmode": "overlay",
             "size": 10,
             "solidity": 0.2
            },
            "type": "scatter"
           }
          ],
          "scatter3d": [
           {
            "line": {
             "colorbar": {
              "outlinewidth": 0,
              "ticks": ""
             }
            },
            "marker": {
             "colorbar": {
              "outlinewidth": 0,
              "ticks": ""
             }
            },
            "type": "scatter3d"
           }
          ],
          "scattercarpet": [
           {
            "marker": {
             "colorbar": {
              "outlinewidth": 0,
              "ticks": ""
             }
            },
            "type": "scattercarpet"
           }
          ],
          "scattergeo": [
           {
            "marker": {
             "colorbar": {
              "outlinewidth": 0,
              "ticks": ""
             }
            },
            "type": "scattergeo"
           }
          ],
          "scattergl": [
           {
            "marker": {
             "colorbar": {
              "outlinewidth": 0,
              "ticks": ""
             }
            },
            "type": "scattergl"
           }
          ],
          "scattermapbox": [
           {
            "marker": {
             "colorbar": {
              "outlinewidth": 0,
              "ticks": ""
             }
            },
            "type": "scattermapbox"
           }
          ],
          "scatterpolar": [
           {
            "marker": {
             "colorbar": {
              "outlinewidth": 0,
              "ticks": ""
             }
            },
            "type": "scatterpolar"
           }
          ],
          "scatterpolargl": [
           {
            "marker": {
             "colorbar": {
              "outlinewidth": 0,
              "ticks": ""
             }
            },
            "type": "scatterpolargl"
           }
          ],
          "scatterternary": [
           {
            "marker": {
             "colorbar": {
              "outlinewidth": 0,
              "ticks": ""
             }
            },
            "type": "scatterternary"
           }
          ],
          "surface": [
           {
            "colorbar": {
             "outlinewidth": 0,
             "ticks": ""
            },
            "colorscale": [
             [
              0,
              "#0d0887"
             ],
             [
              0.1111111111111111,
              "#46039f"
             ],
             [
              0.2222222222222222,
              "#7201a8"
             ],
             [
              0.3333333333333333,
              "#9c179e"
             ],
             [
              0.4444444444444444,
              "#bd3786"
             ],
             [
              0.5555555555555556,
              "#d8576b"
             ],
             [
              0.6666666666666666,
              "#ed7953"
             ],
             [
              0.7777777777777778,
              "#fb9f3a"
             ],
             [
              0.8888888888888888,
              "#fdca26"
             ],
             [
              1,
              "#f0f921"
             ]
            ],
            "type": "surface"
           }
          ],
          "table": [
           {
            "cells": {
             "fill": {
              "color": "#EBF0F8"
             },
             "line": {
              "color": "white"
             }
            },
            "header": {
             "fill": {
              "color": "#C8D4E3"
             },
             "line": {
              "color": "white"
             }
            },
            "type": "table"
           }
          ]
         },
         "layout": {
          "annotationdefaults": {
           "arrowcolor": "#2a3f5f",
           "arrowhead": 0,
           "arrowwidth": 1
          },
          "autotypenumbers": "strict",
          "coloraxis": {
           "colorbar": {
            "outlinewidth": 0,
            "ticks": ""
           }
          },
          "colorscale": {
           "diverging": [
            [
             0,
             "#8e0152"
            ],
            [
             0.1,
             "#c51b7d"
            ],
            [
             0.2,
             "#de77ae"
            ],
            [
             0.3,
             "#f1b6da"
            ],
            [
             0.4,
             "#fde0ef"
            ],
            [
             0.5,
             "#f7f7f7"
            ],
            [
             0.6,
             "#e6f5d0"
            ],
            [
             0.7,
             "#b8e186"
            ],
            [
             0.8,
             "#7fbc41"
            ],
            [
             0.9,
             "#4d9221"
            ],
            [
             1,
             "#276419"
            ]
           ],
           "sequential": [
            [
             0,
             "#0d0887"
            ],
            [
             0.1111111111111111,
             "#46039f"
            ],
            [
             0.2222222222222222,
             "#7201a8"
            ],
            [
             0.3333333333333333,
             "#9c179e"
            ],
            [
             0.4444444444444444,
             "#bd3786"
            ],
            [
             0.5555555555555556,
             "#d8576b"
            ],
            [
             0.6666666666666666,
             "#ed7953"
            ],
            [
             0.7777777777777778,
             "#fb9f3a"
            ],
            [
             0.8888888888888888,
             "#fdca26"
            ],
            [
             1,
             "#f0f921"
            ]
           ],
           "sequentialminus": [
            [
             0,
             "#0d0887"
            ],
            [
             0.1111111111111111,
             "#46039f"
            ],
            [
             0.2222222222222222,
             "#7201a8"
            ],
            [
             0.3333333333333333,
             "#9c179e"
            ],
            [
             0.4444444444444444,
             "#bd3786"
            ],
            [
             0.5555555555555556,
             "#d8576b"
            ],
            [
             0.6666666666666666,
             "#ed7953"
            ],
            [
             0.7777777777777778,
             "#fb9f3a"
            ],
            [
             0.8888888888888888,
             "#fdca26"
            ],
            [
             1,
             "#f0f921"
            ]
           ]
          },
          "colorway": [
           "#636efa",
           "#EF553B",
           "#00cc96",
           "#ab63fa",
           "#FFA15A",
           "#19d3f3",
           "#FF6692",
           "#B6E880",
           "#FF97FF",
           "#FECB52"
          ],
          "font": {
           "color": "#2a3f5f"
          },
          "geo": {
           "bgcolor": "white",
           "lakecolor": "white",
           "landcolor": "white",
           "showlakes": true,
           "showland": true,
           "subunitcolor": "#C8D4E3"
          },
          "hoverlabel": {
           "align": "left"
          },
          "hovermode": "closest",
          "mapbox": {
           "style": "light"
          },
          "paper_bgcolor": "white",
          "plot_bgcolor": "white",
          "polar": {
           "angularaxis": {
            "gridcolor": "#EBF0F8",
            "linecolor": "#EBF0F8",
            "ticks": ""
           },
           "bgcolor": "white",
           "radialaxis": {
            "gridcolor": "#EBF0F8",
            "linecolor": "#EBF0F8",
            "ticks": ""
           }
          },
          "scene": {
           "xaxis": {
            "backgroundcolor": "white",
            "gridcolor": "#DFE8F3",
            "gridwidth": 2,
            "linecolor": "#EBF0F8",
            "showbackground": true,
            "ticks": "",
            "zerolinecolor": "#EBF0F8"
           },
           "yaxis": {
            "backgroundcolor": "white",
            "gridcolor": "#DFE8F3",
            "gridwidth": 2,
            "linecolor": "#EBF0F8",
            "showbackground": true,
            "ticks": "",
            "zerolinecolor": "#EBF0F8"
           },
           "zaxis": {
            "backgroundcolor": "white",
            "gridcolor": "#DFE8F3",
            "gridwidth": 2,
            "linecolor": "#EBF0F8",
            "showbackground": true,
            "ticks": "",
            "zerolinecolor": "#EBF0F8"
           }
          },
          "shapedefaults": {
           "line": {
            "color": "#2a3f5f"
           }
          },
          "ternary": {
           "aaxis": {
            "gridcolor": "#DFE8F3",
            "linecolor": "#A2B1C6",
            "ticks": ""
           },
           "baxis": {
            "gridcolor": "#DFE8F3",
            "linecolor": "#A2B1C6",
            "ticks": ""
           },
           "bgcolor": "white",
           "caxis": {
            "gridcolor": "#DFE8F3",
            "linecolor": "#A2B1C6",
            "ticks": ""
           }
          },
          "title": {
           "x": 0.05
          },
          "xaxis": {
           "automargin": true,
           "gridcolor": "#EBF0F8",
           "linecolor": "#EBF0F8",
           "ticks": "",
           "title": {
            "standoff": 15
           },
           "zerolinecolor": "#EBF0F8",
           "zerolinewidth": 2
          },
          "yaxis": {
           "automargin": true,
           "gridcolor": "#EBF0F8",
           "linecolor": "#EBF0F8",
           "ticks": "",
           "title": {
            "standoff": 15
           },
           "zerolinecolor": "#EBF0F8",
           "zerolinewidth": 2
          }
         }
        },
        "title": {
         "text": "Histograma das Frequências w100 (Bins de 0.2)"
        },
        "xaxis": {
         "anchor": "y",
         "domain": [
          0,
          1
         ],
         "title": {
          "text": "Frequência (rad/s)"
         }
        },
        "yaxis": {
         "anchor": "x",
         "domain": [
          0,
          1
         ],
         "title": {
          "text": "Número de Ocorrências"
         }
        }
       }
      }
     },
     "metadata": {},
     "output_type": "display_data"
    }
   ],
   "source": [
    "import plotly.express as px\n",
    "\n",
    "\n",
    "# Criar o histograma com bins de 0.2\n",
    "fig = px.histogram(\n",
    "    x=w100,\n",
    "    nbins=int((np.max(w100) - np.min(w100)) / 0.05),  # Número de bins baseado no intervalo\n",
    "    labels={'x': 'Frequência (ω)', 'y': 'Contagem'},\n",
    "    title='Histograma das Frequências w100 (Bins de 0.2)',\n",
    "    opacity=0.8,\n",
    "    color_discrete_sequence=['#636EFA']  # Cor azul\n",
    ")\n",
    "\n",
    "# Ajustar o tamanho dos bins para exatamente 0.2\n",
    "fig.update_traces(\n",
    "    xbins=dict(\n",
    "        start=np.floor(np.min(w100)),\n",
    "        end=np.ceil(np.max(w100)),\n",
    "        size=0.05  # Tamanho do bin fixo\n",
    "    ),\n",
    "    marker_line_color='black',\n",
    "    marker_line_width=1\n",
    ")\n",
    "\n",
    "# Personalizar layout\n",
    "fig.update_layout(\n",
    "    bargap=0.05,  # Espaço entre barras\n",
    "    xaxis_title='Frequência (rad/s)',\n",
    "    yaxis_title='Número de Ocorrências',\n",
    "    showlegend=False,\n",
    "    template='plotly_white'  # Estilo clean\n",
    ")\n",
    "\n",
    "# Mostrar o gráfico interativo\n",
    "fig.show()"
   ]
  },
  {
   "cell_type": "markdown",
   "metadata": {},
   "source": [
    "#### Outros"
   ]
  },
  {
   "cell_type": "markdown",
   "metadata": {},
   "source": [
    "Por tratar-se de uma matriz tridiagonal, é mais eficiente armazená-la como `csr_matrix` (Compressed Sparse Row), pois economiza RAM e é otimizada para operações matriciais como cálculo de autovalores e autovetores. Para matrizes $D_{100 \\times 100}$ não faz muita diferença mas no caso de matrizes grandes — $D_{10000 \\times 10000}$ , por exemplo —, faz."
   ]
  },
  {
   "cell_type": "markdown",
   "metadata": {},
   "source": [
    "A diagonal principal é $\\frac{2k_1}{m_{var}}$ e as adjacentes são $\\frac{k_1}{m_{var}}$"
   ]
  },
  {
   "cell_type": "code",
   "execution_count": null,
   "metadata": {},
   "outputs": [],
   "source": [
    "dg100_principal = np.ones(N1) * (2*k1/m_var)\n",
    "dg100_adjacentes = np.ones(N1-1) * (-k1/m_var)\n",
    "D100_diag = diags([dg100_adjacentes, dg100_principal, dg100_adjacentes], \n",
    "                offsets = [-1, 0, 1], \n",
    "                shape=(N1, N1))\n",
    "D100_csr = csr_matrix(D100_diag)"
   ]
  },
  {
   "cell_type": "markdown",
   "metadata": {},
   "source": [
    "Autovalores, autovetores e $\\omega_i$ (para $D_{100 \\times 100}$ usamos `D100` ainda)"
   ]
  },
  {
   "cell_type": "markdown",
   "metadata": {},
   "source": [
    "### Cadeia de 1000 átomos"
   ]
  },
  {
   "cell_type": "code",
   "execution_count": 33,
   "metadata": {},
   "outputs": [],
   "source": [
    "# Inicializa a matriz D com zeros\n",
    "D1000 = np.zeros((N2, N2))\n",
    "\n",
    "# Preenche a matriz D de acordo com o sistema de massas e molas\n",
    "for i in range(N2):\n",
    "    if i == N2-1:  # Última massa\n",
    "        D1000[i, i] = 2*k1/m\n",
    "        D1000[i, i-1] = -k1/m\n",
    "    else:  \n",
    "        D1000[i, i] = 2*k1/m\n",
    "        D1000[i, i-1] = -k1/m\n",
    "        D1000[i, i+1] = -k1/m\n",
    "       \n",
    "#cria a matriz com problema de massa\n",
    "D1000_mod = D1000.copy()\n",
    "D1000_mod[499, :] *= k2\n"
   ]
  },
  {
   "cell_type": "code",
   "execution_count": 77,
   "metadata": {},
   "outputs": [],
   "source": [
    "ww_1000, v_1000 = eigh(D1000)\n",
    "w1000 = np.sqrt(ww_1000) \n",
    "\n",
    "ww1000_mod, v1000_mod = eigh(D1000_mod)\n",
    "w1000_mod = np.sqrt(np.abs(ww1000_mod))"
   ]
  },
  {
   "cell_type": "code",
   "execution_count": 81,
   "metadata": {},
   "outputs": [
    {
     "name": "stderr",
     "output_type": "stream",
     "text": [
      "<>:10: SyntaxWarning:\n",
      "\n",
      "invalid escape sequence '\\o'\n",
      "\n",
      "<>:11: SyntaxWarning:\n",
      "\n",
      "invalid escape sequence '\\o'\n",
      "\n",
      "<>:21: SyntaxWarning:\n",
      "\n",
      "invalid escape sequence '\\o'\n",
      "\n",
      "<>:22: SyntaxWarning:\n",
      "\n",
      "invalid escape sequence '\\o'\n",
      "\n",
      "<>:10: SyntaxWarning:\n",
      "\n",
      "invalid escape sequence '\\o'\n",
      "\n",
      "<>:11: SyntaxWarning:\n",
      "\n",
      "invalid escape sequence '\\o'\n",
      "\n",
      "<>:21: SyntaxWarning:\n",
      "\n",
      "invalid escape sequence '\\o'\n",
      "\n",
      "<>:22: SyntaxWarning:\n",
      "\n",
      "invalid escape sequence '\\o'\n",
      "\n",
      "/tmp/ipykernel_53275/2680964772.py:10: SyntaxWarning:\n",
      "\n",
      "invalid escape sequence '\\o'\n",
      "\n",
      "/tmp/ipykernel_53275/2680964772.py:11: SyntaxWarning:\n",
      "\n",
      "invalid escape sequence '\\o'\n",
      "\n",
      "/tmp/ipykernel_53275/2680964772.py:21: SyntaxWarning:\n",
      "\n",
      "invalid escape sequence '\\o'\n",
      "\n",
      "/tmp/ipykernel_53275/2680964772.py:22: SyntaxWarning:\n",
      "\n",
      "invalid escape sequence '\\o'\n",
      "\n"
     ]
    },
    {
     "data": {
      "image/png": "[encoded data removed]",
      "text/plain": [
       "<Figure size 1000x500 with 2 Axes>"
      ]
     },
     "metadata": {},
     "output_type": "display_data"
    }
   ],
   "source": [
    "# Configuração do histograma\n",
    "fig, (ax1, ax2) = plt.subplots(1, 2, figsize=(10, 5))\n",
    "\n",
    "# --- Subplot 1: Histograma de w100 ---\n",
    "ax1.hist(w1000, \n",
    "         bins=np.arange(min(w1000), max(w1000) + 0.2, 0.05),\n",
    "         edgecolor='black',\n",
    "         color='skyblue',\n",
    "         alpha=0.7)\n",
    "ax1.set_title('Distribuição de $\\omega_{1000}$ (Original)')\n",
    "ax1.set_xlabel('$\\omega$')\n",
    "ax1.set_ylabel('Número de modos normais')\n",
    "ax1.grid(linestyle='--', alpha=0.5)\n",
    "\n",
    "# --- Subplot 2: Histograma de w100_mod ---\n",
    "ax2.hist(w1000_mod, \n",
    "         bins=np.arange(min(w1000_mod), max(w1000_mod) + 0.2, 0.05),\n",
    "         edgecolor='black',\n",
    "         color='salmon',\n",
    "         alpha=0.7)\n",
    "ax2.set_title('Distribuição de $\\omega_{1000}$ (Modificada)')\n",
    "ax2.set_xlabel('$\\omega$')\n",
    "ax2.set_ylabel('Número de modos normais')\n",
    "ax2.grid(linestyle='--', alpha=0.5)\n",
    "\n",
    "# Mostrar o gráfico\n",
    "plt.show()"
   ]
  },
  {
   "cell_type": "markdown",
   "metadata": {},
   "source": [
    "#### Outros"
   ]
  },
  {
   "cell_type": "code",
   "execution_count": 15,
   "metadata": {},
   "outputs": [],
   "source": [
    "dg1000_principal = np.ones(N2) * (2*k1/m_var)\n",
    "dg1000_adjacentes = np.ones(N2-1) * (-k1/m_var)\n",
    "D1000_diag = diags([dg1000_adjacentes, dg1000_principal, dg1000_adjacentes], \n",
    "                offsets = [-1, 0, 1], \n",
    "                shape=(N2, N2))\n",
    "D1000_csr = csr_matrix(D1000_diag)"
   ]
  },
  {
   "cell_type": "code",
   "execution_count": null,
   "metadata": {},
   "outputs": [],
   "source": [
    "ww1000_min, v1000_min = eigsh(D1000_csr, k=5, which='SM')  # 50 menores autovalores. 'SM' (Smallest Magnitude) \n"
   ]
  },
  {
   "cell_type": "markdown",
   "metadata": {},
   "source": [
    "### Cadeia de 10000 átomos"
   ]
  },
  {
   "cell_type": "code",
   "execution_count": 34,
   "metadata": {},
   "outputs": [],
   "source": [
    "# Inicializa a matriz D com zeros\n",
    "D10000 = np.zeros((N3, N3))\n",
    "\n",
    "# Preenche a matriz D de acordo com o sistema de massas e molas\n",
    "for i in range(N3):\n",
    "    if i == N3-1:  # Última massa\n",
    "        D10000[i, i] = 2*k1/m\n",
    "        D10000[i, i-1] = -k1/m\n",
    "    else:  \n",
    "        D10000[i, i] = 2*k1/m\n",
    "        D10000[i, i-1] = -k1/m\n",
    "        D10000[i, i+1] = -k1/m\n",
    "       \n",
    "#cria a matriz com problema de massa\n",
    "D10000_mod = D10000.copy()\n",
    "D10000_mod[4999, :] *= k2"
   ]
  },
  {
   "cell_type": "code",
   "execution_count": null,
   "metadata": {},
   "outputs": [],
   "source": [
    "ww_10000, v_10000 = eigh(D10000)\n",
    "w1000 = np.sqrt(ww_10000)"
   ]
  },
  {
   "cell_type": "code",
   "execution_count": null,
   "metadata": {},
   "outputs": [],
   "source": [
    "ww10000_mod, v10000_mod = eigh(D10000_mod)\n",
    "w10000_mod = np.sqrt(ww10000_mod)"
   ]
  },
  {
   "cell_type": "markdown",
   "metadata": {},
   "source": [
    "#### Outros"
   ]
  },
  {
   "cell_type": "code",
   "execution_count": 16,
   "metadata": {},
   "outputs": [],
   "source": [
    "dg10000_principal = np.ones(N3) * (2*k1/m_var)\n",
    "dg10000_adjacentes = np.ones(N3-1) * (-k1/m_var)\n",
    "D10000_diag = diags([dg10000_adjacentes, dg10000_principal, dg10000_adjacentes], \n",
    "                offsets = [-1, 0, 1], \n",
    "                shape=(N3, N3))\n",
    "D10000_csr = csr_matrix(D10000_diag)"
   ]
  }
 ],
 "metadata": {
  "kernelspec": {
   "display_name": "base",
   "language": "python",
   "name": "python3"
  },
  "language_info": {
   "codemirror_mode": {
    "name": "ipython",
    "version": 3
   },
   "file_extension": ".py",
   "mimetype": "text/x-python",
   "name": "python",
   "nbconvert_exporter": "python",
   "pygments_lexer": "ipython3",
   "version": "3.12.7"
  }
 },
 "nbformat": 4,
 "nbformat_minor": 2
}

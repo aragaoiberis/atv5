{
 "cells": [
  {
   "cell_type": "markdown",
   "metadata": {},
   "source": [
    "Considere uma cadeia circular composta por  átomos, cada um de massa , conectados por molas idênticas de constante elástica . O sistema está sujeito a condições de contorno ou seja a primeira massa está ligada a última massa. Em uma das simulações, introduza um defeito de molas:  substitua duas molas que ligam uma massa por (k2=5k)\n",
    " \n",
    "Parâmetros\n",
    "• Massas padrão:  m=1 kg\n",
    " • Constante elástica: k = 1 N/m\n",
    " • Tamanhos da cadeia: N = 100, 1000 e 10.000\n",
    "• Defeito: massa igual a k2 = 5k  (apenas em uma das simulações)\n",
    " \n",
    "Tarefas  \n",
    "1. Cálculo das Frequências de Vibração  \n",
    "• Para cada valor de  (100, 1000, 10000), calcule as frequências naturais de vibração do sistema para:  \n",
    "• Cadeia homogênea (todas as massas iguais)  \n",
    "• Cadeia com defeito de massa no centro  \n",
    "2. Densidade de Estados  \n",
    "• Construa histogramas (densidade de estados) para os valores de  obtidos em cada caso.  \n",
    "• Compare os histogramas para diferentes tamanhos de cadeia e para a presença/ausência do defeito.  \n",
    "3. Deslocamentos Relativos (Modos Normais)  \n",
    "• Para cada cadeia, obtenha os vetores de deslocamento (modos normais) correspondentes:  \n",
    "• Às cinco menores frequências (modos de baixa energia)  \n",
    "• Às cinco maiores frequências (modos de alta energia)  \n",
    "• Apresente gráficos dos deslocamentos relativos dos átomos para esses modos.  \n",
    "4. Análise e Comparação  \n",
    "• Analise como o tamanho da cadeia e a presença do defeito afetam:  \n",
    "• A distribuição das frequências (densidade de estados)  \n",
    "• Os padrões de deslocamento dos modos normais  \n",
    "• Discuta a localização dos modos associados ao defeito de massa.  \n",
    "Orientações para Implementação em Python  \n",
    "• O código deve ser bem documentado e comentado, facilitando o entendimento de cada etapa do processo.  \n",
    "• Utilize bibliotecas como `numpy` e `matplotlib` para cálculos e visualizações.  \n",
    "• Monte a matriz dinâmica do sistema e calcule seus autovalores e autovetores.  \n",
    "• Para grandes valores de , otimize o código para eficiência computacional.  \n",
    "• Disponibilize o código final em um repositório no GitHub e inclua o link no relatório.  \n",
    "   \n",
    "Instruções para Entrega  \n",
    " • A resposta deve ser enviada via Moodle devidamente comentada.  \n",
    "• Inclua todos os gráficos gerados (histogramas, modos normais, etc.) no arquivo de resposta, pois não será possível rodar todos os programas novamente para correção.  \n",
    "• Certifique-se de que cada gráfico esteja devidamente identificado e relacionado ao caso analisado.  \n",
    "   \n",
    "Sugestão de Estrutura para a resposta  \n",
    "1. Introdução  \n",
    "• Breve explicação do modelo massa-mola e sua relevância para cadeias atômicas.  \n",
    "2. Metodologia  \n",
    "• Descrição do método numérico utilizado para calcular frequências e modos.  \n",
    "3. Resultados  \n",
    "• Histogramas das densidades de estados para cada caso.  \n",
    "• Gráficos dos deslocamentos relativos para os modos selecionados.  \n",
    "• Tabela comparativa dos principais resultados.  \n",
    "4. Discussão  \n",
    "• Interpretação dos efeitos do tamanho da cadeia e do defeito de massa.    \n",
    "• Observações sobre a localização dos modos e possíveis aplicações.  \n",
    "5. Conclusão  \n",
    "• Síntese dos principais achados.  \n",
    "Observação: Comente o código de forma clara, disponibilize o link do GitHub e anexe todos os gráficos no Moodle para garantir a avaliação completa.  "
   ]
  },
  {
   "cell_type": "code",
   "execution_count": 11,
   "metadata": {},
   "outputs": [],
   "source": [
    "import numpy as np\n",
    "import matplotlib.pyplot as plt\n",
    "from scipy.linalg import eigh\n",
    "from scipy.sparse import diags, csr_matrix\n",
    "import pandas as pd"
   ]
  },
  {
   "cell_type": "code",
   "execution_count": 2,
   "metadata": {},
   "outputs": [],
   "source": [
    "#Parâmetros\n",
    "m_var, k1, k2 = 1, 1, 5\n",
    "N1, N2, N3 = 100, 1000, 10000"
   ]
  },
  {
   "cell_type": "markdown",
   "metadata": {},
   "source": [
    "### Cadeia de 100 átomos"
   ]
  },
  {
   "cell_type": "code",
   "execution_count": 9,
   "metadata": {},
   "outputs": [
    {
     "name": "stdout",
     "output_type": "stream",
     "text": [
      "Matriz D:\n",
      "[[ 2. -1.  0. ...  0.  0.  0.]\n",
      " [-1.  2. -1. ...  0.  0.  0.]\n",
      " [ 0. -1.  2. ...  0.  0.  0.]\n",
      " ...\n",
      " [ 0.  0.  0. ...  2. -1.  0.]\n",
      " [ 0.  0.  0. ... -1.  2. -1.]\n",
      " [ 0.  0.  0. ...  0. -1.  2.]]\n"
     ]
    }
   ],
   "source": [
    "\n",
    "# Cria a matriz nula\n",
    "m = []\n",
    "for i in range(int(N1)): \n",
    "    m.append(float(m_var))\n",
    "m = np.array(m)\n",
    "\n",
    "\n",
    "# Inicializa a matriz D com zeros\n",
    "D100 = np.zeros((N1, N1))\n",
    "\n",
    "# Preenche a matriz D de acordo com o sistema de massas e molas\n",
    "for i in range(N1):\n",
    "    if N1 == 1:  # Caso especial com apenas 1 massa\n",
    "        D100[i, i] = k1/m[i]\n",
    "    else:\n",
    "        if i == 0:  # Primeira massa\n",
    "            D100[i, i] = 2*k1/m[i]\n",
    "            D100[i, i+1] = -k1/m[i]\n",
    "        elif i == N1-1:  # Última massa\n",
    "            D100[i, i] = 2*k1/m[i]\n",
    "            D100[i, i-1] = -k1/m[i]\n",
    "        else:  # Massas do meio\n",
    "            D100[i, i] = 2*k1/m[i]\n",
    "            D100[i, i-1] = -k1/m[i]\n",
    "            D100[i, i+1] = -k1/m[i]\n",
    "\n",
    "ww_100, v_100 = eigh(D100)\n",
    "w = np.sqrt(ww_100) \n",
    "\n",
    "print(\"Matriz D:\")\n",
    "print(D100)"
   ]
  },
  {
   "cell_type": "markdown",
   "metadata": {},
   "source": [
    "Por tratar-se de uma matriz tridiagonal, é mais eficiente armazená-la como `csr_matrix` (Compressed Sparse Row), pois economiza RAM e é otimizada para operações matriciais como cálculo de autovalores e autovetores. Para matrizes $D_{100 \\times 100}$ não faz muita diferença mas no caso de matrizes grandes — $D_{10000 \\times 10000}$ , por exemplo —, faz."
   ]
  },
  {
   "cell_type": "markdown",
   "metadata": {},
   "source": [
    "A diagonal principal é $\\frac{2k_1}{m_{var}}$ e as adjacentes são $\\frac{k_1}{m_{var}}$"
   ]
  },
  {
   "cell_type": "code",
   "execution_count": 12,
   "metadata": {},
   "outputs": [],
   "source": [
    "dg100_principal = np.ones(N1) * (2*k1/m_var)\n",
    "dg100_adjacentes = np.ones(N1-1) * (-k1/m_var)\n",
    "D100_diag = diags([dg100_adjacentes, dg100_principal, dg100_adjacentes], \n",
    "                offsets = [-1, 0, 1], \n",
    "                shape=(N1, N1))\n",
    "D100_csr = csr_matrix(D100_diag)"
   ]
  },
  {
   "cell_type": "markdown",
   "metadata": {},
   "source": [
    "Autovalores, autovetores e frequências ($\\omega$)"
   ]
  },
  {
   "cell_type": "markdown",
   "metadata": {},
   "source": [
    "### Cadeia de 1000 átomos"
   ]
  },
  {
   "cell_type": "code",
   "execution_count": 15,
   "metadata": {},
   "outputs": [],
   "source": [
    "dg1000_principal = np.ones(N2) * (2*k1/m_var)\n",
    "dg1000_adjacentes = np.ones(N2-1) * (-k1/m_var)\n",
    "D1000_diag = diags([dg1000_adjacentes, dg1000_principal, dg1000_adjacentes], \n",
    "                offsets = [-1, 0, 1], \n",
    "                shape=(N2, N2))\n",
    "D1000_csr = csr_matrix(D1000_diag)"
   ]
  },
  {
   "cell_type": "code",
   "execution_count": null,
   "metadata": {},
   "outputs": [],
   "source": [
    " "
   ]
  },
  {
   "cell_type": "markdown",
   "metadata": {},
   "source": [
    "### Cadeia de 10000 átomos"
   ]
  },
  {
   "cell_type": "code",
   "execution_count": 16,
   "metadata": {},
   "outputs": [],
   "source": [
    "dg10000_principal = np.ones(N3) * (2*k1/m_var)\n",
    "dg10000_adjacentes = np.ones(N3-1) * (-k1/m_var)\n",
    "D10000_diag = diags([dg10000_adjacentes, dg10000_principal, dg10000_adjacentes], \n",
    "                offsets = [-1, 0, 1], \n",
    "                shape=(N3, N3))\n",
    "D10000_csr = csr_matrix(D10000_diag)"
   ]
  },
  {
   "cell_type": "code",
   "execution_count": null,
   "metadata": {},
   "outputs": [],
   "source": [
    "ww_10000, v_10000 = eigh(D10000)\n",
    "w = np.sqrt(ww_10000) "
   ]
  },
  {
   "cell_type": "code",
   "execution_count": null,
   "metadata": {},
   "outputs": [],
   "source": []
  }
 ],
 "metadata": {
  "kernelspec": {
   "display_name": "base",
   "language": "python",
   "name": "python3"
  },
  "language_info": {
   "codemirror_mode": {
    "name": "ipython",
    "version": 3
   },
   "file_extension": ".py",
   "mimetype": "text/x-python",
   "name": "python",
   "nbconvert_exporter": "python",
   "pygments_lexer": "ipython3",
   "version": "3.12.7"
  }
 },
 "nbformat": 4,
 "nbformat_minor": 2
}
